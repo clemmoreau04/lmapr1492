{
 "cells": [
  {
   "cell_type": "markdown",
   "id": "7dd9383a",
   "metadata": {},
   "source": [
    " # TACHE 4 : Lattice\n"
   ]
  },
  {
   "cell_type": "markdown",
   "id": "edd29cb3",
   "metadata": {},
   "source": [
    "Ce notebook a pour objectif de déterminer les vecteurs de base des réseaux direct et réciproque, d'identifier le type de maille, le système cristallin ainsi que le groupe ponctuel d'un matériau. "
   ]
  },
  {
   "cell_type": "markdown",
   "id": "0306a802",
   "metadata": {},
   "source": [
    "Dans cette cellule de code, nous récupérons la structure primitive du SrCN₂ depuis Materials Project.<br>\n",
    "La maille primitive est la plus petite partie du réseau qui en se répétant par translation permet de le reconstituer."
   ]
  },
  {
   "cell_type": "code",
   "execution_count": 1,
   "id": "af46d284",
   "metadata": {},
   "outputs": [],
   "source": [
    "from pymatgen.ext.matproj import MPRester\n",
    "from pymatgen.symmetry.analyzer import SpacegroupAnalyzer"
   ]
  },
  {
   "cell_type": "code",
   "execution_count": 2,
   "id": "254f1a8b",
   "metadata": {},
   "outputs": [],
   "source": [
    "mp_key = \"hGFJONMWFhZMzX55ulNNTvmOkGE07nJS\"\n",
    "mp_id = \"mp-12317\""
   ]
  },
  {
   "cell_type": "code",
   "execution_count": 3,
   "id": "1cda6a42",
   "metadata": {},
   "outputs": [
    {
     "data": {
      "application/vnd.jupyter.widget-view+json": {
       "model_id": "4b18724fae9547a5a256699773f5c070",
       "version_major": 2,
       "version_minor": 0
      },
      "text/plain": [
       "Retrieving MaterialsDoc documents:   0%|          | 0/1 [00:00<?, ?it/s]"
      ]
     },
     "metadata": {},
     "output_type": "display_data"
    }
   ],
   "source": [
    "with MPRester(mp_key) as m:\n",
    "    prim_struc = m.get_structure_by_material_id(mp_id)"
   ]
  },
  {
   "cell_type": "markdown",
   "id": "3e90d48a",
   "metadata": {},
   "source": [
    " ## 1) Réseau direct"
   ]
  },
  {
   "cell_type": "markdown",
   "id": "3a86574f",
   "metadata": {},
   "source": [
    "Le réseau ponctuel décrit l'organisation ordonnée d'un solide cristallin. Pour une structure donnée, il est défini en choisissant un système d'axes et en identifiant toutes les positions équivalentes par rapport à l'origine.<br>\n",
    "Ci-dessous, la représentation matricielle des vecteurs de base du réseau direct, accompagnée de la norme de ces vecteurs en Ångström et des angles entre eux.<br> \n",
    "L'ensemble de ces données sont extraites de la structure primitive car celles-ci nous permettrons de déterminer le système cristallin et le type de maille de notre cristal SrCN₂."
   ]
  },
  {
   "cell_type": "code",
   "execution_count": 4,
   "id": "ce745c08",
   "metadata": {},
   "outputs": [
    {
     "name": "stdout",
     "output_type": "stream",
     "text": [
      "Vecteurs de base du réseau direct\n",
      "[[3.71811390e+00 4.44567000e-03 4.10077614e+00]\n",
      " [1.58526101e+00 3.36323282e+00 4.10077614e+00]\n",
      " [7.00173000e-03 4.44568000e-03 5.53540297e+00]]\n",
      "\n",
      "\n",
      "Norme du vecteur a [Å] : 5.535409261088854\n",
      "Norme du vecteur b [Å] : 5.535408966078719\n",
      "Norme du vecteur c [Å] : 5.5354091834821455\n",
      "\n",
      "\n",
      "Angles du réseau direct\n",
      "Angle alpha [°] : 42.1256512865084\n",
      "Angle béta [°] : 42.12565029392072\n",
      "Angle gamma [°] : 42.12565797624934\n",
      "\n",
      "\n",
      "Volume du réseau direct [Å³] : 69.04523105497147\n"
     ]
    }
   ],
   "source": [
    "reseau_direct = prim_struc.lattice\n",
    "# Vecteurs de base du réseau direct\n",
    "matrice_r_d = reseau_direct.matrix\n",
    "a = reseau_direct.a\n",
    "b = reseau_direct.b\n",
    "c = reseau_direct.c\n",
    "#Angles du réseau direct\n",
    "alpha = reseau_direct.alpha\n",
    "beta = reseau_direct.beta\n",
    "gamma = reseau_direct.gamma\n",
    "#Volume\n",
    "volume = reseau_direct.volume\n",
    "\n",
    "\n",
    "print(\"Vecteurs de base du réseau direct\")\n",
    "print(matrice_r_d)\n",
    "print(\"\\n\")\n",
    "print('Norme du vecteur a [Å] :',a)\n",
    "print(\"Norme du vecteur b [Å] :\",b)\n",
    "print(\"Norme du vecteur c [Å] :\",c)\n",
    "print(\"\\n\")\n",
    "print(\"Angles du réseau direct\")\n",
    "print(\"Angle alpha [°] :\",alpha)\n",
    "print(\"Angle béta [°] :\",beta)\n",
    "print(\"Angle gamma [°] :\",gamma)\n",
    "print(\"\\n\")\n",
    "print(\"Volume du réseau direct [Å³] :\",volume)"
   ]
  },
  {
   "cell_type": "markdown",
   "id": "67655602",
   "metadata": {},
   "source": [
    "## 2) Réseau réciproque"
   ]
  },
  {
   "cell_type": "markdown",
   "id": "0cffa9c0",
   "metadata": {},
   "source": [
    "Le réseau réciproque est construit à partir du réseau direct.<br>\n",
    "Ci-dessous, la présentation matricielle de ses vecteurs de base, accompagnée de la norme de ces vecteurs en Ångström ainsi que des angles entre eux."
   ]
  },
  {
   "cell_type": "code",
   "execution_count": 5,
   "id": "07524715",
   "metadata": {},
   "outputs": [
    {
     "name": "stdout",
     "output_type": "stream",
     "text": [
      "Vecteurs de base du réseau réciproque\n",
      "[[ 1.69249292e+00 -7.95926260e-01 -1.50159709e-03]\n",
      " [-5.80389517e-04  1.87030233e+00 -1.50137252e-03]\n",
      " [-1.25341453e+00 -7.95926830e-01  1.13731554e+00]]\n",
      "\n",
      "\n",
      "Norme du vecteur a* [Å] : 1.8703029555651671\n",
      "Norme du vecteur b* [Å] : 1.8703030194165127\n",
      "Norme du vecteur c* [Å] : 1.870303223247507\n",
      "\n",
      "\n",
      "Angles du réseau réciproque\n",
      "Angle alpha* [°] : 115.20386543023328\n",
      "Angle béta* [°] : 115.20386776219553\n",
      "Angle gamma* [°] : 115.20384971350796\n",
      "\n",
      "\n",
      "Volume du réseau réciproque [Å³] : 3.5925756153225024\n"
     ]
    }
   ],
   "source": [
    "reseau_reciproque = reseau_direct.reciprocal_lattice\n",
    "\n",
    "#Vecteurs de base du réseau réciproque\n",
    "matrice_r_r = reseau_reciproque.matrix\n",
    "a_recip = reseau_reciproque.a\n",
    "b_recip = reseau_reciproque.b\n",
    "c_recip = reseau_reciproque.c\n",
    "#Angles du réseau réciproque\n",
    "alpha_recip = reseau_reciproque.alpha\n",
    "beta_recip = reseau_reciproque.beta\n",
    "gamma_recip = reseau_reciproque.gamma\n",
    "#Volume\n",
    "volume_recip = reseau_reciproque.volume\n",
    "print(\"Vecteurs de base du réseau réciproque\")\n",
    "print(matrice_r_r)\n",
    "print(\"\\n\")\n",
    "print(\"Norme du vecteur a* [Å] :\", a_recip)\n",
    "print(\"Norme du vecteur b* [Å] :\", b_recip)\n",
    "print(\"Norme du vecteur c* [Å] :\", c_recip)\n",
    "print(\"\\n\")\n",
    "print(\"Angles du réseau réciproque\")\n",
    "print(\"Angle alpha* [°] :\", alpha_recip)\n",
    "print(\"Angle béta* [°] :\", beta_recip)\n",
    "print(\"Angle gamma* [°] :\", gamma_recip)\n",
    "print(\"\\n\")\n",
    "print(\"Volume du réseau réciproque [Å³] :\", volume_recip)"
   ]
  },
  {
   "cell_type": "markdown",
   "id": "c04ecfd8",
   "metadata": {},
   "source": [
    "## 3) Type de maille et système cristallin "
   ]
  },
  {
   "cell_type": "markdown",
   "id": "eb148d5b",
   "metadata": {},
   "source": [
    "Une maille est une partie du réseau qui en se répétant par translation permet de le reconstituer.<br>\n",
    "Le système cristallin caractérise la manière d'agencer les points du réseau.<br>\n",
    "Nous identifions le type de maille et le système cristallin du SrCN₂ à partir de la structure primitive."
   ]
  },
  {
   "cell_type": "code",
   "execution_count": 6,
   "id": "840d98ad",
   "metadata": {},
   "outputs": [
    {
     "name": "stdout",
     "output_type": "stream",
     "text": [
      "Etant donné que les vecteurs et les angles entre-eux de la maille primitive sont égaux et différents de 90°,\n",
      "le système cristallin est : trigonal\n",
      "Et la maille est de type : rhombohedral\n"
     ]
    }
   ],
   "source": [
    "syst_cristal = SpacegroupAnalyzer(prim_struc).get_crystal_system()\n",
    "maille = SpacegroupAnalyzer(prim_struc).get_lattice_type()\n",
    "print(\"Etant donné que les vecteurs et les angles entre-eux de la maille primitive sont égaux et différents de 90°,\\nle système cristallin est :\", syst_cristal)\n",
    "print(\"Et la maille est de type :\",maille)"
   ]
  },
  {
   "cell_type": "markdown",
   "id": "08c9b6f2",
   "metadata": {},
   "source": [
    "## 4) Groupe ponctuel"
   ]
  },
  {
   "cell_type": "markdown",
   "id": "57b14e61",
   "metadata": {},
   "source": [
    "L'ensemble des opérations ponctuelles de symétrie d'un cristal forment un groupe.<br>\n",
    "Ci-dessous, nous déterminons le groupe ponctuel du SrCN₂ à partir de la structure primitive du cristal."
   ]
  },
  {
   "cell_type": "code",
   "execution_count": 7,
   "id": "6ecfda89",
   "metadata": {},
   "outputs": [
    {
     "name": "stdout",
     "output_type": "stream",
     "text": [
      "Groupe ponctuel : -3m\n"
     ]
    }
   ],
   "source": [
    "groupe_ponctuel = SpacegroupAnalyzer(prim_struc).get_point_group_symbol()\n",
    "print(\"Groupe ponctuel :\" ,groupe_ponctuel)"
   ]
  }
 ],
 "metadata": {
  "kernelspec": {
   "display_name": "Python 3 (ipykernel)",
   "language": "python",
   "name": "python3"
  },
  "language_info": {
   "codemirror_mode": {
    "name": "ipython",
    "version": 3
   },
   "file_extension": ".py",
   "mimetype": "text/x-python",
   "name": "python",
   "nbconvert_exporter": "python",
   "pygments_lexer": "ipython3",
   "version": "3.9.13"
  }
 },
 "nbformat": 4,
 "nbformat_minor": 5
}
