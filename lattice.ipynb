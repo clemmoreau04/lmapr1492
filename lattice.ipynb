{
 "cells": [
  {
   "cell_type": "markdown",
   "id": "7dd9383a",
   "metadata": {},
   "source": [
    " # TACHE 4 : Lattice\n"
   ]
  },
  {
   "cell_type": "code",
   "execution_count": 1,
   "id": "af46d284",
   "metadata": {},
   "outputs": [],
   "source": [
    "from pymatgen.ext.matproj import MPRester\n",
    "from pymatgen.symmetry.analyzer import SpacegroupAnalyzer"
   ]
  },
  {
   "cell_type": "code",
   "execution_count": 2,
   "id": "254f1a8b",
   "metadata": {},
   "outputs": [],
   "source": [
    "mp_key = \"hGFJONMWFhZMzX55ulNNTvmOkGE07nJS\"\n",
    "mp_id = \"mp-12317\""
   ]
  },
  {
   "cell_type": "code",
   "execution_count": 3,
   "id": "1cda6a42",
   "metadata": {},
   "outputs": [
    {
     "data": {
      "application/vnd.jupyter.widget-view+json": {
       "model_id": "7ad9c11d66164324a4c00009ce196672",
       "version_major": 2,
       "version_minor": 0
      },
      "text/plain": [
       "Retrieving MaterialsDoc documents:   0%|          | 0/1 [00:00<?, ?it/s]"
      ]
     },
     "metadata": {},
     "output_type": "display_data"
    }
   ],
   "source": [
    "#Création de la structure du cristal\n",
    "with MPRester(mp_key) as m:\n",
    "    structure = m.get_structure_by_material_id(mp_id)\n",
    "#Création d'un objet SpaceGroupAnalyzer\n",
    "struct = SpacegroupAnalyzer(structure)"
   ]
  },
  {
   "cell_type": "markdown",
   "id": "3e90d48a",
   "metadata": {},
   "source": [
    " ## 1) Réseau direct"
   ]
  },
  {
   "cell_type": "code",
   "execution_count": 4,
   "id": "ce745c08",
   "metadata": {},
   "outputs": [
    {
     "name": "stdout",
     "output_type": "stream",
     "text": [
      "Vecteurs de base du réseau direct\n",
      "Longueur du coté a [Angström] : 5.535409261088854\n",
      "Longueur du coté b [Angström] : 5.535408966078719\n",
      "Longueur du coté c [Angström] : 5.5354091834821455\n",
      "\n",
      "\n",
      "Angles du réseau direct\n",
      "Angle alpha [°] : 42.1256512865084\n",
      "Angle béta [°] : 42.12565029392072\n",
      "Angle gamma [°] : 42.12565797624934\n",
      "\n",
      "\n",
      "Volume du réseau direct [Angström³] : 69.04523105497147\n"
     ]
    }
   ],
   "source": [
    "reseau_direct = structure.lattice\n",
    "# Vecteurs de base du réseau direct\n",
    "a = reseau_direct.a\n",
    "b = reseau_direct.b\n",
    "c = reseau_direct.c\n",
    "#Angles du réseau direct\n",
    "alpha = reseau_direct.alpha\n",
    "beta = reseau_direct.beta\n",
    "gamma = reseau_direct.gamma\n",
    "#Volume\n",
    "volume = reseau_direct.volume\n",
    "\n",
    "print(\"Vecteurs de base du réseau direct\")\n",
    "print('Longueur du coté a [Angström] :',a)\n",
    "print(\"Longueur du coté b [Angström] :\",b)\n",
    "print(\"Longueur du coté c [Angström] :\",c)\n",
    "print(\"\\n\")\n",
    "print(\"Angles du réseau direct\")\n",
    "print(\"Angle alpha [°] :\",alpha)\n",
    "print(\"Angle béta [°] :\",beta)\n",
    "print(\"Angle gamma [°] :\",gamma)\n",
    "print(\"\\n\")\n",
    "print(\"Volume du réseau direct [Angström³] :\",volume)"
   ]
  },
  {
   "cell_type": "markdown",
   "id": "67655602",
   "metadata": {},
   "source": [
    "## 2) Réseau réciproque"
   ]
  },
  {
   "cell_type": "code",
   "execution_count": 5,
   "id": "07524715",
   "metadata": {},
   "outputs": [
    {
     "name": "stdout",
     "output_type": "stream",
     "text": [
      "Vecteurs de base du réseau réciproque\n",
      "Longueur du coté a* [Angström] : 1.8703029555651671\n",
      "Longueur du coté b* [Angström] : 1.8703030194165127\n",
      "Longueur du coté c* [Angström] : 1.870303223247507\n",
      "\n",
      "\n",
      "Angles du réseau réciproque\n",
      "Angle alpha* [°] : 115.20386543023328\n",
      "Angle béta* [°] : 115.20386776219553\n",
      "Angle gamma* [°] : 115.20384971350796\n",
      "\n",
      "\n",
      "Volume du réseau réciproque [Angström³] : 3.5925756153225024\n"
     ]
    }
   ],
   "source": [
    "reseau_reciproque = reseau_direct.reciprocal_lattice\n",
    "#Vecteurs de base du réseau réciproque\n",
    "a_recip = reseau_reciproque.a\n",
    "b_recip = reseau_reciproque.b\n",
    "c_recip = reseau_reciproque.c\n",
    "#Angles du réseau réciproque\n",
    "alpha_recip = reseau_reciproque.alpha\n",
    "beta_recip = reseau_reciproque.beta\n",
    "gamma_recip = reseau_reciproque.gamma\n",
    "#Volume\n",
    "volume_recip = reseau_reciproque.volume\n",
    "print(\"Vecteurs de base du réseau réciproque\")\n",
    "print(\"Longueur du coté a* [Angström] :\", a_recip)\n",
    "print(\"Longueur du coté b* [Angström] :\", b_recip)\n",
    "print(\"Longueur du coté c* [Angström] :\", c_recip)\n",
    "print(\"\\n\")\n",
    "print(\"Angles du réseau réciproque\")\n",
    "print(\"Angle alpha* [°] :\", alpha_recip)\n",
    "print(\"Angle béta* [°] :\", beta_recip)\n",
    "print(\"Angle gamma* [°] :\", gamma_recip)\n",
    "print(\"\\n\")\n",
    "print(\"Volume du réseau réciproque [Angström³] :\", volume_recip)"
   ]
  },
  {
   "cell_type": "markdown",
   "id": "b93d8bed",
   "metadata": {},
   "source": [
    "## 3) Maille"
   ]
  },
  {
   "cell_type": "code",
   "execution_count": 6,
   "id": "0342bac8",
   "metadata": {},
   "outputs": [
    {
     "name": "stdout",
     "output_type": "stream",
     "text": [
      "Type de maille: rhombohedral\n"
     ]
    }
   ],
   "source": [
    "maille = struct.get_lattice_type()\n",
    "print(\"Type de maille:\",maille)"
   ]
  },
  {
   "cell_type": "markdown",
   "id": "c04ecfd8",
   "metadata": {},
   "source": [
    "## 4) Système cristallin "
   ]
  },
  {
   "cell_type": "code",
   "execution_count": 7,
   "id": "840d98ad",
   "metadata": {},
   "outputs": [
    {
     "name": "stdout",
     "output_type": "stream",
     "text": [
      "Système cristallin : trigonal\n"
     ]
    }
   ],
   "source": [
    "syst_cristal = struct.get_crystal_system()\n",
    "print(\"Système cristallin :\", syst_cristal)"
   ]
  },
  {
   "cell_type": "markdown",
   "id": "08c9b6f2",
   "metadata": {},
   "source": [
    "## 5) Groupe ponctuel"
   ]
  },
  {
   "cell_type": "code",
   "execution_count": 8,
   "id": "6ecfda89",
   "metadata": {},
   "outputs": [
    {
     "name": "stdout",
     "output_type": "stream",
     "text": [
      "Groupe ponctuel : -3m\n"
     ]
    }
   ],
   "source": [
    "groupe_ponctuel = struct.get_point_group_symbol()\n",
    "print(\"Groupe ponctuel :\" ,groupe_ponctuel)"
   ]
  },
  {
   "cell_type": "code",
   "execution_count": null,
   "id": "8220661a",
   "metadata": {},
   "outputs": [],
   "source": []
  }
 ],
 "metadata": {
  "kernelspec": {
   "display_name": "Python 3 (ipykernel)",
   "language": "python",
   "name": "python3"
  },
  "language_info": {
   "codemirror_mode": {
    "name": "ipython",
    "version": 3
   },
   "file_extension": ".py",
   "mimetype": "text/x-python",
   "name": "python",
   "nbconvert_exporter": "python",
   "pygments_lexer": "ipython3",
   "version": "3.9.13"
  }
 },
 "nbformat": 4,
 "nbformat_minor": 5
}
