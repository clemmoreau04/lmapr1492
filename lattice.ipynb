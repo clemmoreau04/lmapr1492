{
 "cells": [
  {
   "cell_type": "markdown",
   "id": "7dd9383a",
   "metadata": {},
   "source": [
    " # TACHE 4 : Lattice\n"
   ]
  },
  {
   "cell_type": "code",
   "execution_count": 1,
   "id": "af46d284",
   "metadata": {},
   "outputs": [],
   "source": [
    "from pymatgen.ext.matproj import MPRester\n",
    "from pymatgen.symmetry.analyzer import SpacegroupAnalyzer"
   ]
  },
  {
   "cell_type": "code",
   "execution_count": 2,
   "id": "254f1a8b",
   "metadata": {},
   "outputs": [],
   "source": [
    "mp_key = \"hGFJONMWFhZMzX55ulNNTvmOkGE07nJS\"\n",
    "mp_id = \"mp-12317\""
   ]
  },
  {
   "cell_type": "code",
   "execution_count": 3,
   "id": "1cda6a42",
   "metadata": {},
   "outputs": [
    {
     "data": {
      "application/vnd.jupyter.widget-view+json": {
       "model_id": "dc369a43cb2f4722af8b0c635b06467e",
       "version_major": 2,
       "version_minor": 0
      },
      "text/plain": [
       "Retrieving MaterialsDoc documents:   0%|          | 0/1 [00:00<?, ?it/s]"
      ]
     },
     "metadata": {},
     "output_type": "display_data"
    }
   ],
   "source": [
    "with MPRester(mp_key) as m:\n",
    "    prim_struc = m.get_structure_by_material_id(mp_id)\n",
    "conv_struc = SpacegroupAnalyzer(prim_struc).get_conventional_standard_structure()"
   ]
  },
  {
   "cell_type": "markdown",
   "id": "3e90d48a",
   "metadata": {},
   "source": [
    " ## 1) Réseau direct"
   ]
  },
  {
   "cell_type": "code",
   "execution_count": 4,
   "id": "ce745c08",
   "metadata": {},
   "outputs": [
    {
     "name": "stdout",
     "output_type": "stream",
     "text": [
      "Vecteurs de base du réseau direct\n",
      "Longueur du coté a [Å] : 3.9787573510756866\n",
      "Longueur du coté b [Å] : 3.9787573510756866\n",
      "Longueur du coté c [Å] : 15.108780924252574\n",
      "\n",
      "\n",
      "Angles du réseau direct\n",
      "Angle alpha [°] : 90.0\n",
      "Angle béta [°] : 90.0\n",
      "Angle gamma [°] : 119.99999999999999\n",
      "\n",
      "\n",
      "Volume du réseau direct [Å³] : 207.13570354126304\n"
     ]
    }
   ],
   "source": [
    "reseau_direct = conv_struc.lattice\n",
    "# Vecteurs de base du réseau direct\n",
    "a = reseau_direct.a\n",
    "b = reseau_direct.b\n",
    "c = reseau_direct.c\n",
    "#Angles du réseau direct\n",
    "alpha = reseau_direct.alpha\n",
    "beta = reseau_direct.beta\n",
    "gamma = reseau_direct.gamma\n",
    "#Volume\n",
    "volume = reseau_direct.volume\n",
    "\n",
    "print(\"Vecteurs de base du réseau direct\")\n",
    "print('Longueur du coté a [Å] :',a)\n",
    "print(\"Longueur du coté b [Å] :\",b)\n",
    "print(\"Longueur du coté c [Å] :\",c)\n",
    "print(\"\\n\")\n",
    "print(\"Angles du réseau direct\")\n",
    "print(\"Angle alpha [°] :\",alpha)\n",
    "print(\"Angle béta [°] :\",beta)\n",
    "print(\"Angle gamma [°] :\",gamma)\n",
    "print(\"\\n\")\n",
    "print(\"Volume du réseau direct [Å³] :\",volume)"
   ]
  },
  {
   "cell_type": "markdown",
   "id": "67655602",
   "metadata": {},
   "source": [
    "## 2) Réseau réciproque"
   ]
  },
  {
   "cell_type": "code",
   "execution_count": 5,
   "id": "07524715",
   "metadata": {},
   "outputs": [
    {
     "name": "stdout",
     "output_type": "stream",
     "text": [
      "Vecteurs de base du réseau réciproque\n",
      "Longueur du coté a* [Å] : 1.8234832679543462\n",
      "Longueur du coté b* [Å] : 1.823483267954346\n",
      "Longueur du coté c* [Å] : 0.41586315525257467\n",
      "\n",
      "\n",
      "Angles du réseau réciproque\n",
      "Angle alpha* [°] : 90.0\n",
      "Angle béta* [°] : 90.0\n",
      "Angle gamma* [°] : 60.00000000000001\n",
      "\n",
      "\n",
      "Volume du réseau réciproque [Å³] : 1.1975251451181375\n"
     ]
    }
   ],
   "source": [
    "reseau_reciproque = reseau_direct.reciprocal_lattice\n",
    "#Vecteurs de base du réseau réciproque\n",
    "a_recip = reseau_reciproque.a\n",
    "b_recip = reseau_reciproque.b\n",
    "c_recip = reseau_reciproque.c\n",
    "#Angles du réseau réciproque\n",
    "alpha_recip = reseau_reciproque.alpha\n",
    "beta_recip = reseau_reciproque.beta\n",
    "gamma_recip = reseau_reciproque.gamma\n",
    "#Volume\n",
    "volume_recip = reseau_reciproque.volume\n",
    "print(\"Vecteurs de base du réseau réciproque\")\n",
    "print(\"Longueur du coté a* [Å] :\", a_recip)\n",
    "print(\"Longueur du coté b* [Å] :\", b_recip)\n",
    "print(\"Longueur du coté c* [Å] :\", c_recip)\n",
    "print(\"\\n\")\n",
    "print(\"Angles du réseau réciproque\")\n",
    "print(\"Angle alpha* [°] :\", alpha_recip)\n",
    "print(\"Angle béta* [°] :\", beta_recip)\n",
    "print(\"Angle gamma* [°] :\", gamma_recip)\n",
    "print(\"\\n\")\n",
    "print(\"Volume du réseau réciproque [Å³] :\", volume_recip)"
   ]
  },
  {
   "cell_type": "markdown",
   "id": "b93d8bed",
   "metadata": {},
   "source": [
    "## 3) Maille"
   ]
  },
  {
   "cell_type": "code",
   "execution_count": 6,
   "id": "0342bac8",
   "metadata": {},
   "outputs": [
    {
     "name": "stdout",
     "output_type": "stream",
     "text": [
      "Type de maille: rhombohedral\n"
     ]
    }
   ],
   "source": [
    "maille = SpacegroupAnalyzer(prim_struc).get_lattice_type()\n",
    "print(\"Type de maille:\",maille)"
   ]
  },
  {
   "cell_type": "markdown",
   "id": "c04ecfd8",
   "metadata": {},
   "source": [
    "## 4) Système cristallin "
   ]
  },
  {
   "cell_type": "code",
   "execution_count": 7,
   "id": "840d98ad",
   "metadata": {},
   "outputs": [
    {
     "name": "stdout",
     "output_type": "stream",
     "text": [
      "Système cristallin : trigonal\n"
     ]
    }
   ],
   "source": [
    "syst_cristal = SpacegroupAnalyzer(prim_struc).get_crystal_system()\n",
    "print(\"Système cristallin :\", syst_cristal)"
   ]
  },
  {
   "cell_type": "markdown",
   "id": "08c9b6f2",
   "metadata": {},
   "source": [
    "## 5) Groupe ponctuel"
   ]
  },
  {
   "cell_type": "code",
   "execution_count": 8,
   "id": "6ecfda89",
   "metadata": {},
   "outputs": [
    {
     "name": "stdout",
     "output_type": "stream",
     "text": [
      "Groupe ponctuel : -3m\n"
     ]
    }
   ],
   "source": [
    "groupe_ponctuel = SpacegroupAnalyzer(prim_struc).get_point_group_symbol()\n",
    "print(\"Groupe ponctuel :\" ,groupe_ponctuel)"
   ]
  },
  {
   "cell_type": "code",
   "execution_count": null,
   "id": "8220661a",
   "metadata": {},
   "outputs": [],
   "source": []
  }
 ],
 "metadata": {
  "kernelspec": {
   "display_name": "Python 3 (ipykernel)",
   "language": "python",
   "name": "python3"
  },
  "language_info": {
   "codemirror_mode": {
    "name": "ipython",
    "version": 3
   },
   "file_extension": ".py",
   "mimetype": "text/x-python",
   "name": "python",
   "nbconvert_exporter": "python",
   "pygments_lexer": "ipython3",
   "version": "3.9.13"
  }
 },
 "nbformat": 4,
 "nbformat_minor": 5
}
