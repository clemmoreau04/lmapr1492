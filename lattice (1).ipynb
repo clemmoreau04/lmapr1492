{
 "cells": [
  {
   "cell_type": "markdown",
   "id": "7dd9383a",
   "metadata": {},
   "source": [
    " # TACHE 4 : Lattice\n"
   ]
  },
  {
   "cell_type": "markdown",
   "id": "edd29cb3",
   "metadata": {},
   "source": [
    "Ce notebook a pour objectif de déterminer les vecteurs de base des réseaux direct et réciproque, d'identifier le type de maille, le système cristallin ainsi que le groupe ponctuel d'un matériau. "
   ]
  },
  {
   "cell_type": "markdown",
   "id": "0306a802",
   "metadata": {},
   "source": [
    "Dans cette cellule de code, nous récupérons la structure primitive du SrCN₂ depuis Materials Project, puis la convertissons en maille conventionnelle pour faciliter l'analyse cristallographique."
   ]
  },
  {
   "cell_type": "code",
   "execution_count": 35,
   "id": "af46d284",
   "metadata": {},
   "outputs": [],
   "source": [
    "from pymatgen.ext.matproj import MPRester\n",
    "from pymatgen.symmetry.analyzer import SpacegroupAnalyzer"
   ]
  },
  {
   "cell_type": "code",
   "execution_count": 36,
   "id": "254f1a8b",
   "metadata": {},
   "outputs": [],
   "source": [
    "mp_key = \"hGFJONMWFhZMzX55ulNNTvmOkGE07nJS\"\n",
    "mp_id = \"mp-12317\""
   ]
  },
  {
   "cell_type": "code",
   "execution_count": 37,
   "id": "1cda6a42",
   "metadata": {},
   "outputs": [
    {
     "data": {
      "application/vnd.jupyter.widget-view+json": {
       "model_id": "5f62ae8088004affab77833d1e159a09",
       "version_major": 2,
       "version_minor": 0
      },
      "text/plain": [
       "Retrieving MaterialsDoc documents:   0%|          | 0/1 [00:00<?, ?it/s]"
      ]
     },
     "metadata": {},
     "output_type": "display_data"
    }
   ],
   "source": [
    "with MPRester(mp_key) as m:\n",
    "    prim_struc = m.get_structure_by_material_id(mp_id)\n",
    "conv_struc = SpacegroupAnalyzer(prim_struc).get_conventional_standard_structure()"
   ]
  },
  {
   "cell_type": "markdown",
   "id": "3e90d48a",
   "metadata": {},
   "source": [
    " ## 1) Réseau direct"
   ]
  },
  {
   "cell_type": "markdown",
   "id": "3a86574f",
   "metadata": {},
   "source": [
    "Le réseau ponctuel décrit l'organisation ordonnée d'un solide cristallin. Pour une structure donnée, il est défini en choisissant un système d'axes et en identifiant toutes les positions équivalentes par rapport à l'origine."
   ]
  },
  {
   "cell_type": "markdown",
   "id": "605763d0",
   "metadata": {},
   "source": [
    "Ci-dessous, la représentation matricielle des vecteurs de base du réseau direct, accompagnée de la longueur de ces vecteurs en Ångström et des angles entre eux. Notons que la maille conventionnelle est utilisée pour cette représentation car elle offre une visualisation plus intuitive des plans et des axes de symétrie en raison de sa plus grande taille."
   ]
  },
  {
   "cell_type": "code",
   "execution_count": 38,
   "id": "ce745c08",
   "metadata": {},
   "outputs": [
    {
     "name": "stdout",
     "output_type": "stream",
     "text": [
      "Vecteurs de base du réseau direct\n",
      "[[ 1.98937868 -3.44570494  0.        ]\n",
      " [ 1.98937868  3.44570494  0.        ]\n",
      " [ 0.          0.         15.10878092]]\n",
      "\n",
      "\n",
      "Longueur du vecteur a [Å] : 3.9787573510756866\n",
      "Longueur du vecteur b [Å] : 3.9787573510756866\n",
      "Longueur du vecteur c [Å] : 15.108780924252574\n",
      "\n",
      "\n",
      "Angles du réseau direct\n",
      "Angle alpha [°] : 90.0\n",
      "Angle béta [°] : 90.0\n",
      "Angle gamma [°] : 119.99999999999999\n",
      "\n",
      "\n",
      "Volume du réseau direct [Å³] : 207.13570354126304\n"
     ]
    }
   ],
   "source": [
    "reseau_direct = conv_struc.lattice\n",
    "\n",
    "# Vecteurs de base du réseau direct\n",
    "matrice_r_d = reseau_direct.matrix\n",
    "a = reseau_direct.a\n",
    "b = reseau_direct.b\n",
    "c = reseau_direct.c\n",
    "#Angles du réseau direct\n",
    "alpha = reseau_direct.alpha\n",
    "beta = reseau_direct.beta\n",
    "gamma = reseau_direct.gamma\n",
    "#Volume\n",
    "volume = reseau_direct.volume\n",
    "\n",
    "\n",
    "print(\"Vecteurs de base du réseau direct\")\n",
    "print(matrice_r_d)\n",
    "print(\"\\n\")\n",
    "print('Longueur du vecteur a [Å] :',a)\n",
    "print(\"Longueur du vecteur b [Å] :\",b)\n",
    "print(\"Longueur du vecteur c [Å] :\",c)\n",
    "print(\"\\n\")\n",
    "print(\"Angles du réseau direct\")\n",
    "print(\"Angle alpha [°] :\",alpha)\n",
    "print(\"Angle béta [°] :\",beta)\n",
    "print(\"Angle gamma [°] :\",gamma)\n",
    "print(\"\\n\")\n",
    "print(\"Volume du réseau direct [Å³] :\",volume)"
   ]
  },
  {
   "cell_type": "markdown",
   "id": "67655602",
   "metadata": {},
   "source": [
    "## 2) Réseau réciproque"
   ]
  },
  {
   "cell_type": "markdown",
   "id": "0cffa9c0",
   "metadata": {},
   "source": [
    "Le réseau réciproque est construit à partir du réseau direct.\n",
    "Ci-dessous, la présentation matricielle de ses vecteurs de base, accompagnée de la longueur de ces vecteurs en Ångström ainsi que des angles entre eux."
   ]
  },
  {
   "cell_type": "code",
   "execution_count": 39,
   "id": "07524715",
   "metadata": {},
   "outputs": [
    {
     "name": "stdout",
     "output_type": "stream",
     "text": [
      "Vecteurs de base du réseau réciproque\n",
      "[[ 1.57918283 -0.91174163  0.        ]\n",
      " [ 1.57918283  0.91174163  0.        ]\n",
      " [ 0.          0.          0.41586316]]\n",
      "\n",
      "\n",
      "Longueur du vecteur a* [Å] : 1.8234832679543462\n",
      "Longueur du vecteur b* [Å] : 1.823483267954346\n",
      "Longueur du vecteur c* [Å] : 0.41586315525257467\n",
      "\n",
      "\n",
      "Angles du réseau réciproque\n",
      "Angle alpha* [°] : 90.0\n",
      "Angle béta* [°] : 90.0\n",
      "Angle gamma* [°] : 60.00000000000001\n",
      "\n",
      "\n",
      "Volume du réseau réciproque [Å³] : 1.1975251451181375\n"
     ]
    }
   ],
   "source": [
    "reseau_reciproque = reseau_direct.reciprocal_lattice\n",
    "\n",
    "#Vecteurs de base du réseau réciproque\n",
    "matrice_r_r = reseau_reciproque.matrix\n",
    "a_recip = reseau_reciproque.a\n",
    "b_recip = reseau_reciproque.b\n",
    "c_recip = reseau_reciproque.c\n",
    "#Angles du réseau réciproque\n",
    "alpha_recip = reseau_reciproque.alpha\n",
    "beta_recip = reseau_reciproque.beta\n",
    "gamma_recip = reseau_reciproque.gamma\n",
    "#Volume\n",
    "volume_recip = reseau_reciproque.volume\n",
    "print(\"Vecteurs de base du réseau réciproque\")\n",
    "print(matrice_r_r)\n",
    "print(\"\\n\")\n",
    "print(\"Longueur du vecteur a* [Å] :\", a_recip)\n",
    "print(\"Longueur du vecteur b* [Å] :\", b_recip)\n",
    "print(\"Longueur du vecteur c* [Å] :\", c_recip)\n",
    "print(\"\\n\")\n",
    "print(\"Angles du réseau réciproque\")\n",
    "print(\"Angle alpha* [°] :\", alpha_recip)\n",
    "print(\"Angle béta* [°] :\", beta_recip)\n",
    "print(\"Angle gamma* [°] :\", gamma_recip)\n",
    "print(\"\\n\")\n",
    "print(\"Volume du réseau réciproque [Å³] :\", volume_recip)"
   ]
  },
  {
   "cell_type": "markdown",
   "id": "b93d8bed",
   "metadata": {},
   "source": [
    "## 3) Maille"
   ]
  },
  {
   "cell_type": "markdown",
   "id": "367b64c4",
   "metadata": {},
   "source": [
    "Une maille est une partie du réseau qui en se répétant par translation permet de le reconstituer.\n",
    "Dans cette cellule, nous déterminons le type de maille du SrCN₂ à partir de la structure primitive."
   ]
  },
  {
   "cell_type": "code",
   "execution_count": 40,
   "id": "0342bac8",
   "metadata": {},
   "outputs": [
    {
     "name": "stdout",
     "output_type": "stream",
     "text": [
      "Type de maille: rhombohedral\n"
     ]
    }
   ],
   "source": [
    "maille = SpacegroupAnalyzer(prim_struc).get_lattice_type()\n",
    "print(\"Type de maille:\",maille)"
   ]
  },
  {
   "cell_type": "markdown",
   "id": "c04ecfd8",
   "metadata": {},
   "source": [
    "## 4) Système cristallin "
   ]
  },
  {
   "cell_type": "markdown",
   "id": "eb148d5b",
   "metadata": {},
   "source": [
    "Le système cristallin caractérise la manière d'agencer les points du réseau. C'est pourquoi nous identifions le système cristallin à partir de la structure primitive, en se basant sur ses propriétés de symétrie."
   ]
  },
  {
   "cell_type": "code",
   "execution_count": 41,
   "id": "840d98ad",
   "metadata": {},
   "outputs": [
    {
     "name": "stdout",
     "output_type": "stream",
     "text": [
      "Système cristallin : trigonal\n"
     ]
    }
   ],
   "source": [
    "syst_cristal = SpacegroupAnalyzer(prim_struc).get_crystal_system()\n",
    "print(\"Système cristallin :\", syst_cristal)"
   ]
  },
  {
   "cell_type": "markdown",
   "id": "08c9b6f2",
   "metadata": {},
   "source": [
    "## 5) Groupe ponctuel"
   ]
  },
  {
   "cell_type": "markdown",
   "id": "57b14e61",
   "metadata": {},
   "source": [
    "L'ensemble des opérations ponctuelles de symétrie d'un cristal forment un groupe.\n",
    "Ci-dessous, nous déterminons le groupe ponctuel de la structure à partir de la structure primitive du cristal, en se basant sur ses éléments de symétrie."
   ]
  },
  {
   "cell_type": "code",
   "execution_count": 42,
   "id": "6ecfda89",
   "metadata": {},
   "outputs": [
    {
     "name": "stdout",
     "output_type": "stream",
     "text": [
      "Groupe ponctuel : -3m\n"
     ]
    }
   ],
   "source": [
    "groupe_ponctuel = SpacegroupAnalyzer(prim_struc).get_point_group_symbol()\n",
    "print(\"Groupe ponctuel :\" ,groupe_ponctuel)"
   ]
  }
 ],
 "metadata": {
  "kernelspec": {
   "display_name": "Python 3 (ipykernel)",
   "language": "python",
   "name": "python3"
  },
  "language_info": {
   "codemirror_mode": {
    "name": "ipython",
    "version": 3
   },
   "file_extension": ".py",
   "mimetype": "text/x-python",
   "name": "python",
   "nbconvert_exporter": "python",
   "pygments_lexer": "ipython3",
   "version": "3.9.13"
  }
 },
 "nbformat": 4,
 "nbformat_minor": 5
}
