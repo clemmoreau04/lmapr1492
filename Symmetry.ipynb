{
 "cells": [
  {
   "cell_type": "markdown",
   "id": "1e2e72cd",
   "metadata": {},
   "source": [
    "# TACHE 5 : Symmetry"
   ]
  },
  {
   "cell_type": "markdown",
   "id": "e5878c39",
   "metadata": {},
   "source": [
    "Dans ce notebook nous allons étudier l’effet de 3 éléments de symétrie différents, chacun pour 1 atome différent du cristal SrCN₂."
   ]
  },
  {
   "cell_type": "markdown",
   "id": "383532ce",
   "metadata": {},
   "source": [
    "Dans cette cellule de code, nous récupérons la structure conventionnelle du SrCN₂ depuis Materials Project.\n",
    "Dans ce notebook, nous utiliserons la maille conventionnelle car elle offre une meilleure visualisation des opérations de symétrie par rapport à la maille primitive. Cela permet une interprétation plus claire et intuitive des éléments de symétrie du cristal."
   ]
  },
  {
   "cell_type": "code",
   "execution_count": 21,
   "id": "c97a5740",
   "metadata": {},
   "outputs": [],
   "source": [
    "import numpy as np\n",
    "from mp_api.client import MPRester\n",
    "from pymatgen.core.operations import SymmOp\n",
    "from pymatgen.symmetry.analyzer import SpacegroupAnalyzer\n",
    "from jupyter_jsmol.pymatgen import quick_view\n",
    "from plotly.subplots import make_subplots\n",
    "import plotly.graph_objects as go\n",
    "from jupyter_jsmol import JsmolView\n",
    "from ipywidgets import Layout, widgets, interact"
   ]
  },
  {
   "cell_type": "code",
   "execution_count": 22,
   "id": "9d8c20fd",
   "metadata": {},
   "outputs": [],
   "source": [
    "mp_key = \"hGFJONMWFhZMzX55ulNNTvmOkGE07nJS\"\n",
    "mp_id = \"mp-12317\""
   ]
  },
  {
   "cell_type": "code",
   "execution_count": 23,
   "id": "128c6211",
   "metadata": {
    "scrolled": true
   },
   "outputs": [
    {
     "data": {
      "application/vnd.jupyter.widget-view+json": {
       "model_id": "e96510a51733403a9c186276ae22d128",
       "version_major": 2,
       "version_minor": 0
      },
      "text/plain": [
       "Retrieving MaterialsDoc documents:   0%|          | 0/1 [00:00<?, ?it/s]"
      ]
     },
     "metadata": {},
     "output_type": "display_data"
    }
   ],
   "source": [
    "with MPRester(mp_key) as m:\n",
    "    prim_struc = m.get_structure_by_material_id(mp_id)\n",
    "conv_struc = SpacegroupAnalyzer(prim_struc).get_conventional_standard_structure()\n",
    "symmops = SpacegroupAnalyzer(conv_struc).get_space_group_operations()"
   ]
  },
  {
   "cell_type": "code",
   "execution_count": 24,
   "id": "dd88ce30",
   "metadata": {},
   "outputs": [
    {
     "data": {
      "application/vnd.jupyter.widget-view+json": {
       "model_id": "8a3e866ac0e84196b8419803338bc8bb",
       "version_major": 2,
       "version_minor": 0
      },
      "text/plain": [
       "JsmolView(layout=Layout(align_self='stretch', height='400px'))"
      ]
     },
     "metadata": {},
     "output_type": "display_data"
    }
   ],
   "source": [
    "JsmolView.default_info['color']='white'\n",
    "view = quick_view(prim_struc, \"packed\", conventional = True)\n",
    "display(view)"
   ]
  },
  {
   "cell_type": "markdown",
   "id": "4f7f7004",
   "metadata": {},
   "source": [
    "## Première opération de symétrie : "
   ]
  },
  {
   "cell_type": "markdown",
   "id": "7b3af61b",
   "metadata": {},
   "source": [
    "La première opération de symétrie que nous allons analyser est une rotation d'ordre 4 appliquée à l'atome Sr."
   ]
  },
  {
   "cell_type": "code",
   "execution_count": 25,
   "id": "a18b5b4f",
   "metadata": {},
   "outputs": [],
   "source": [
    "i_atom = 1 #Sr\n",
    "i_symmop = 3 #'-y, x-y, z'"
   ]
  },
  {
   "cell_type": "code",
   "execution_count": 26,
   "id": "99ff4edb",
   "metadata": {
    "scrolled": true
   },
   "outputs": [
    {
     "name": "stdout",
     "output_type": "stream",
     "text": [
      "Rot:\n",
      "[[ 0. -1.  0.]\n",
      " [ 1. -1.  0.]\n",
      " [ 0.  0.  1.]]\n",
      "tau\n",
      "[0. 0. 0.]\n"
     ]
    }
   ],
   "source": [
    "symmop = symmops[i_symmop - 1]\n",
    "print(symmop)"
   ]
  },
  {
   "cell_type": "code",
   "execution_count": 40,
   "id": "96f46111",
   "metadata": {},
   "outputs": [
    {
     "name": "stdout",
     "output_type": "stream",
     "text": [
      "Coordonnées initiales du Sr : [1.  1.  0.5]\n",
      "Coordonnées finales du Sr : [-1.  -1.  -0.5]\n"
     ]
    }
   ],
   "source": [
    "pos_init = conv_struc.sites[i_atom -1].frac_coords\n",
    "print('Coordonnées initiales du Sr :',pos_init)\n",
    "pos_final = symmop.operate(pos_init)\n",
    "print('Coordonnées finales du Sr :', pos_final)"
   ]
  },
  {
   "cell_type": "code",
   "execution_count": 29,
   "id": "4f5fe225",
   "metadata": {
    "scrolled": true
   },
   "outputs": [
    {
     "data": {
      "application/vnd.jupyter.widget-view+json": {
       "model_id": "7f40a31b29d84f189186a272907f231a",
       "version_major": 2,
       "version_minor": 0
      },
      "text/plain": [
       "JsmolView(layout=Layout(align_self='stretch', height='400px'))"
      ]
     },
     "metadata": {},
     "output_type": "display_data"
    }
   ],
   "source": [
    "v1 = quick_view(conv_struc)\n",
    "display(v1)\n",
    "v1.script(\"draw symop 3 {atomno=1}\")"
   ]
  },
  {
   "cell_type": "markdown",
   "id": "0f043a00",
   "metadata": {},
   "source": [
    "### Analyse :\n",
    "La rotation autour d'un axe est une opération de première espèce. Cette opération conserve la chiralité. Le déterminant de la matrice de rotation vaut 1.\n",
    "\n",
    "$$\n",
    "\\begin{bmatrix} 0 & -1 & 0 \\\\ 1 & -1 & 0 \\\\ 0 & 0 & 1 \\end{bmatrix} \\times \\begin{bmatrix} x \\\\ y \\\\ z \\end{bmatrix} = \\begin{bmatrix} -y \\\\ x-y \\\\ z \\end{bmatrix}\n",
    "$$"
   ]
  },
  {
   "cell_type": "markdown",
   "id": "d7f568a0",
   "metadata": {},
   "source": [
    "## Deuxième opération de symétrie :"
   ]
  },
  {
   "cell_type": "markdown",
   "id": "28a73c7d",
   "metadata": {},
   "source": [
    "La seconde opération de symétrie que nous allons analysé est une réflexion appliquée à l'atome C."
   ]
  },
  {
   "cell_type": "code",
   "execution_count": 30,
   "id": "0326f941",
   "metadata": {},
   "outputs": [],
   "source": [
    "i_atom = 2 #C\n",
    "i_symmop = 12 # 'x, x-y, z'"
   ]
  },
  {
   "cell_type": "code",
   "execution_count": 31,
   "id": "fa313e4e",
   "metadata": {},
   "outputs": [
    {
     "name": "stdout",
     "output_type": "stream",
     "text": [
      "Rot:\n",
      "[[ 1.  0.  0.]\n",
      " [ 1. -1.  0.]\n",
      " [ 0.  0.  1.]]\n",
      "tau\n",
      "[0. 0. 0.]\n"
     ]
    }
   ],
   "source": [
    "symmop = symmops[i_symmop - 1] \n",
    "print(symmop)"
   ]
  },
  {
   "cell_type": "code",
   "execution_count": 39,
   "id": "65e5f42e",
   "metadata": {},
   "outputs": [
    {
     "name": "stdout",
     "output_type": "stream",
     "text": [
      "Coordonnées initiales du C: [1.  1.  0.5]\n",
      "Coordonnées finales du C: [-1.  -1.  -0.5]\n"
     ]
    }
   ],
   "source": [
    "pos_init = conv_struc.sites[i_atom -1].frac_coords\n",
    "print('Coordonnées initiales du C:',pos_init)\n",
    "pos_final = symmop.operate(pos_init)\n",
    "print('Coordonnées finales du C:',pos_final)"
   ]
  },
  {
   "cell_type": "code",
   "execution_count": 34,
   "id": "e4711fb6",
   "metadata": {},
   "outputs": [
    {
     "data": {
      "application/vnd.jupyter.widget-view+json": {
       "model_id": "12d8236df81c40628179dbfaedac094a",
       "version_major": 2,
       "version_minor": 0
      },
      "text/plain": [
       "JsmolView(layout=Layout(align_self='stretch', height='400px'))"
      ]
     },
     "metadata": {},
     "output_type": "display_data"
    }
   ],
   "source": [
    "v1 = quick_view(conv_struc)\n",
    "display(v1)\n",
    "v1.script(\"draw symop 12 {atomno=2}\")"
   ]
  },
  {
   "cell_type": "markdown",
   "id": "56a9d4dd",
   "metadata": {},
   "source": [
    "### Analyse :\n",
    "La réflexion par rapport à un plan miroir est une opération de deuxième espèce. Le déterminant de la matrice vaut -1.\n",
    "$$\n",
    "\\begin{bmatrix} 1 & 0 & 0 \\\\ 1 & -1 & 0 \\\\ 0 & 0 & 1 \\end{bmatrix} \\times \\begin{bmatrix} x \\\\ y \\\\ z \\end{bmatrix} = \\begin{bmatrix} x \\\\ x-y \\\\ z \\end{bmatrix}\n",
    "$$"
   ]
  },
  {
   "cell_type": "markdown",
   "id": "54fdbd89",
   "metadata": {},
   "source": [
    "## Troisième opération de symétrie :"
   ]
  },
  {
   "cell_type": "markdown",
   "id": "c05a9169",
   "metadata": {},
   "source": [
    "La troisième opération de symétrie que nous allons analyser est une inversion appliquée à l'atome N."
   ]
  },
  {
   "cell_type": "code",
   "execution_count": 35,
   "id": "14c6b660",
   "metadata": {},
   "outputs": [],
   "source": [
    "i_atom =3 #N\n",
    "i_symmop = 2 #'-x, -y, -z'"
   ]
  },
  {
   "cell_type": "code",
   "execution_count": 36,
   "id": "7606a3e9",
   "metadata": {},
   "outputs": [
    {
     "name": "stdout",
     "output_type": "stream",
     "text": [
      "Rot:\n",
      "[[-1.  0.  0.]\n",
      " [ 0. -1.  0.]\n",
      " [ 0.  0. -1.]]\n",
      "tau\n",
      "[0. 0. 0.]\n"
     ]
    }
   ],
   "source": [
    "symmop = symmops[i_symmop - 1]\n",
    "print(symmop)"
   ]
  },
  {
   "cell_type": "code",
   "execution_count": 37,
   "id": "824b4d1e",
   "metadata": {},
   "outputs": [
    {
     "name": "stdout",
     "output_type": "stream",
     "text": [
      "Coordonnées initiales du N: [1.  1.  0.5]\n",
      "Coordonnées finales du N: [-1.  -1.  -0.5]\n"
     ]
    }
   ],
   "source": [
    "pos_init = conv_struc.sites[i_atom -1].frac_coords\n",
    "print('Coordonnées initiales du N:',pos_init)\n",
    "pos_final = symmop.operate(pos_init)\n",
    "print('Coordonnées finales du N:',pos_final)"
   ]
  },
  {
   "cell_type": "code",
   "execution_count": 38,
   "id": "3cba975c",
   "metadata": {},
   "outputs": [
    {
     "data": {
      "application/vnd.jupyter.widget-view+json": {
       "model_id": "4f7b1899f5de40faaa9233e44747d64c",
       "version_major": 2,
       "version_minor": 0
      },
      "text/plain": [
       "JsmolView(layout=Layout(align_self='stretch', height='400px'))"
      ]
     },
     "metadata": {},
     "output_type": "display_data"
    }
   ],
   "source": [
    "v1 = quick_view(conv_struc)\n",
    "display(v1)\n",
    "v1.script(\"draw symop 2 {atomno=3}\")"
   ]
  },
  {
   "cell_type": "markdown",
   "id": "4df2cdbc",
   "metadata": {},
   "source": [
    "### Analyse\n",
    "L'inversion par rapport à un centre est une opération de deuxième espèce. Le déterminant de la matrice vaut -1.\n",
    "$$\n",
    "\\begin{bmatrix} -1 & 0 & 0 \\\\ 0 & -1 & 0 \\\\ 0 & 0 & -1 \\end{bmatrix} \\times \\begin{bmatrix} x \\\\ y \\\\ z \\end{bmatrix} = \\begin{bmatrix} -x \\\\ -y \\\\ -z \\end{bmatrix}\n",
    "$$"
   ]
  },
  {
   "cell_type": "code",
   "execution_count": null,
   "id": "bfadb45d",
   "metadata": {},
   "outputs": [],
   "source": []
  }
 ],
 "metadata": {
  "kernelspec": {
   "display_name": "Python 3 (ipykernel)",
   "language": "python",
   "name": "python3"
  },
  "language_info": {
   "codemirror_mode": {
    "name": "ipython",
    "version": 3
   },
   "file_extension": ".py",
   "mimetype": "text/x-python",
   "name": "python",
   "nbconvert_exporter": "python",
   "pygments_lexer": "ipython3",
   "version": "3.9.13"
  }
 },
 "nbformat": 4,
 "nbformat_minor": 5
}
